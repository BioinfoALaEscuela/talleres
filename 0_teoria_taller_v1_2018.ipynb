{
 "cells": [
  {
   "cell_type": "markdown",
   "metadata": {},
   "source": [
    "<div align=\"center\"><img src='http://ufq.unq.edu.ar/sbg/images/top.jpg' alt=\"SGB logo\"> </div>\n",
    "\n",
    "<h1 align='center'> TALLER “PROGRAMACIÓN ORIENTADA A LA BIOLOGÍA”</h1>\n",
    "<h3 align='center'>(En el marco del II CONCURSO “BIOINFORMÁTICA EN EL AULA”)</h3>\n",
    "\n",
    "La bioinformática es una disciplina científica destinada a la aplicación de métodos computacionales al análisis de datos biológicos, para poder contestar numerosas preguntas. Las tecnologías computacionales permiten, entre otras cosas, el análisis en plazos cortos de gran cantidad de datos (provenientes de experimentos, bibliografía, bases de datos públicas, etc), así como la predicción de la forma o la función de las distintas moléculas, o la simulación del comportamiento de sistemas biológicos complejos como células y organismos.\n",
    "\n",
    "La bioinformática puede ser pensada como una herramienta en el aprendizaje de la biología: su objeto de trabajo son entidades biológicas (ADN, proteínas, organismos completos, sus poblaciones, etc.) que se analizan con métodos que permiten “visualizar” distintos procesos de la naturaleza. Así, la bioinformática aporta una manera clara y precisa de percibir los procesos biológicos, y acerca a los estudiantes herramientas que integran múltiples conocimientos (lógico-matemático, biológico, físico, estadístico) generando un aprendizaje significativo y envolvente."
   ]
  },
  {
   "cell_type": "markdown",
   "metadata": {},
   "source": [
    "# ¡Bienvenido! ¿Estás listo?\n",
    "Podemos comenzar con algunas definiciones.\n",
    "\n",
    "### ¿En qué consiste una computadora?\n",
    "Una computadora está formada por el `Hardware` (que son todas las partes o elementos físicos que la componen) y el `Software` (que son todas las instrucciones para el funcionamiento del Hardware). El sistema operativo es el principal Software de la computadora, pues proporciona una interfaz con el usuario y permite al resto de los programas una interacción correcta con el Hardware.\n",
    "\n",
    "### ¿Qué hacemos entonces cuando programamos?\n",
    "Una computadora está constituida, básicamente, por un gran número de circuitos eléctricos que pueden ser activados **(1)** o desactivados **(0)**. Al establecer diferentes combinaciones de prendido y apagado de los circuitos, los usuarios de computadoras podemos lograr que el equipo realice alguna acción (por ejemplo, que muestre algo en la pantalla). ¡Esto es programar!\n",
    "\n",
    "Los lenguajes de programación actúan como traductores entre el usuario y el equipo. En lugar de aprender el difícil lenguaje de la máquina, con sus combinaciones de ceros y unos, se puede utilizar un `lenguaje de programación` para dar instrucciones al equipo de un modo que sea más fácil de aprender y entender. Para que la computadora entienda nuestras órdenes, un programa intermedio, denominado `compilador`, convierte las instrucciones dadas por el usuario en un determinado lenguaje de programación, al `lenguaje máquina` de ceros y unos. Esto significa que, como programadores de Python (o cualquier otro lenguaje), no necesitamos entender lo que el equipo hace o cómo lo hace, basta con que entendamos a “hablar y escribir” en el lenguaje de programación.\n",
    "\n",
    "### ¿Por qué es útil aprender a programar?\n",
    "Tu smartphone, tu Playstation o Smart TV no serían muy útiles sin programas (aplicaciones, juegos, etc) para hacerlas funcionar. Cada vez que abrimos un documento para hacer un trabajo práctico para la escuela, o usamos el WhatsApp para chatear con nuestros amigos, estamos usando programas que interpretan lo que deseamos, como cambiar un color de fuente, aumentar el tamaño de letra o enviar un mensaje.  Estos programas le comunican nuestras órdenes a la PC o teléfono para que las ejecuten. 1Aprendiendo a programar podrías hacer una gran diversidad de cosas: desde escribir tus propios juegos y aplicaciones para celular, combinar el uso de varios programas en forma secuencial o leer millones de textos sin abrir un solo libro… hasta analizar el genoma de un organismo o miles de estructuras de proteínas y así sacar conclusiones de relevancia biológica."
   ]
  },
  {
   "cell_type": "markdown",
   "metadata": {},
   "source": [
    "# Entonces: ¿Qué es Python? \n",
    "Es un lenguaje de programación con una forma de escritura (sintaxis) sencilla y poderosa. Es lo que se conoce como lenguaje de scripting, que puede ser ejecutado por partes y no necesita ser compilado en un paso aparte. Python tiene muchas características, ventajas y usos que vamos a pasar por alto en este taller, pero que podes leer en las páginas oficiales de [Python](https://www.python.org/) y [Python Argentina](https://www.python.org.ar/). Para nosotros, la razón más importante para elegir Python es que podés comenzar a hacer tus propios programas realmente rápido."
   ]
  },
  {
   "cell_type": "markdown",
   "metadata": {},
   "source": [
    "### ¿Cómo se puede usar Python?\n",
    "\n",
    "Depende del dispositivo que uses. En las computadoras, suele venir instalado. Si tenés un teléfono inteligente existen varias aplicaciones que instalan todo lo necesario para que Python funcione. Solo debés buscar ‘Python’ en tu tienda y descargarte alguna de las apps disponibles. Recomendamos las siguientes opciones gratuitas:\n",
    "- Para teléfonos Android: QPython 3 (o Pydroid 3).\n",
    "- Para teléfonos Windows: Python 3.\n",
    "- Para iOS: Python 2.5 for iOS"
   ]
  },
  {
   "cell_type": "markdown",
   "metadata": {},
   "source": [
    "# ¿Cómo escribimos código en Python dentro de las apps?\n",
    "¡Es muy fácil! Sólo tenés que abrir la app y ejecutar la `consola` o terminal de Python. Te aparecerá una pantalla con un pequeño símbolo, usualmente `>>>`, donde podrás ingresar las distintas órdenes `(o\n",
    "comandos)` que le darás a la computadora, siempre en sintaxis de Python. Cada vez que des `Enter` se ejecutará esa orden y podrás escribir un nuevo comando. ¡Ojo! Al salir de la consola se borrarán los comandos, a menos que los guardemos en un archivo o `script` para volver a ejecutarlos más adelante."
   ]
  },
  {
   "cell_type": "markdown",
   "metadata": {},
   "source": [
    "### ¿Se pueden correr scripts en las apps de Python?\n",
    "¡Si, es posible! Pero para eso, primero hay que crearlos. Veremos cómo hacerlo con QPython3. Abrimos el editor de la aplicación desde la pantalla principal, luego escribimos el script que queremos ejecutar y lo guardamos en una carpeta (por ejemplo, “scripts3”) usando el botón correspondiente.\n",
    "\n",
    "¡Atención! Siempre al final del nombre que demos a nuestro script debemos usar la extensión **“.py”**, como en el ejemplo de la foto: **“ejemplo.py”**.\n",
    "\n",
    "Nuestro script se ejecuta desde la página principal; allí apretamos el botón **“Programs”** y navegamos en los archivos para encontrar nuestro script. Al seleccionarlo aparecerán las opciones que se muestran en la imagen, de las cuales debemos elegir y pulsar **“Run”**. ¡Tachan! ¡El script se ejecuta!"
   ]
  },
  {
   "cell_type": "markdown",
   "metadata": {},
   "source": [
    "### ¿Qué otras formas tenemos para correr Python?\n",
    "Existen consolas en línea que te permiten correr Python en internet como si estuviese instalado en tu PC o teléfono, que son completamente gratis (bueno, ¡siempre que tengas internet!). Te recomendamos dos, pero siempre podés buscar otras:\n",
    "- [repl.it](https://repl.it/languages/python3)\n",
    "- [Tutorials Point](https://www.tutorialspoint.com/execute_python_online.php)\n",
    "\n",
    "### “Aún el camino más largo siempre comienza con el primer paso” - Lao Tse\n",
    "El primer paso para poder hacer tu primer programa es abrir la consola de Python, tu app del teléfono o consola en línea, ¡lo que tengas a mano para arrancar!"
   ]
  },
  {
   "cell_type": "markdown",
   "metadata": {},
   "source": [
    "### El principio de un comienzo\n",
    "En todo proceso de aprendizaje los ‘errores’ tienen un rol muy importante: nos plantean nuevos interrogantes, nos acercan a nuevas hipótesis y sobre todo nos dan oportunidades \n",
    "para seguir aprendiendo. En la programación los ‘errores’ también importan, ¡y mucho! Son una suerte de comunicación con la máquina, que nos advierte cuando no funciona algo\n",
    "de lo que intentamos hacer.\n",
    "Existen distintos tipos de errores en Python y con cada tipo de error la máquina nos marca qué es lo que puede estar fallando de nuestro código. Por eso te pedimos que anotes\n",
    "todos los errores que puedan ir apareciendo durante tu trabajo en el taller o en casa y que lo compartas con nosotros, para charlar entre todos acerca de los conocimientos \n",
    "que se ponen en juego durante la resolución de estos problemas. Así que, como diría la señorita Ricitos en su Autobús Mágico, **a cometer errores, tomar oportunidades y rockear con Python, que donde termina la carretera comienza la aventura!**"
   ]
  },
  {
   "cell_type": "markdown",
   "metadata": {},
   "source": [
    "### Tu primer programa\n",
    "Una forma no muy original de a aprender escribir tu programa es simplemente abrir la consola, escribir lo siguiente y darle `Enter`:"
   ]
  },
  {
   "cell_type": "code",
   "execution_count": 2,
   "metadata": {},
   "outputs": [
    {
     "name": "stdout",
     "output_type": "stream",
     "text": [
      "A rockear con Python!\n"
     ]
    }
   ],
   "source": [
    "print('A rockear con Python!')"
   ]
  },
  {
   "cell_type": "markdown",
   "metadata": {},
   "source": [
    "#### ¿Qué pasó? \n",
    "**print** es una función que te permite imprimir o mostrar en la consola todo lo que se encuentre dentro de los paréntesis y entre comillas, como en nuestro ejemplo. Entre otras cosas, esta función nos permite interactuar con nuestro programa o con el futuro usuario de nuestro programa. Felicitaciones, ¡ese fue tu primer programa en Python!"
   ]
  },
  {
   "cell_type": "markdown",
   "metadata": {},
   "source": [
    "#### Una calculadora super-archi-genial \n",
    "Con Python podemos hacer todo tipo de cálculos matemáticos. Aunque suene medio bodrio, aprender a hacer estos cálculos nos va a ayudar después a trabajar sobre otros tipos de datos. Vamos a probar algunos cálculos. Escribí en tu consola:"
   ]
  },
  {
   "cell_type": "code",
   "execution_count": 3,
   "metadata": {},
   "outputs": [
    {
     "data": {
      "text/plain": [
       "15"
      ]
     },
     "execution_count": 3,
     "metadata": {},
     "output_type": "execute_result"
    }
   ],
   "source": [
    "3*5"
   ]
  },
  {
   "cell_type": "markdown",
   "metadata": {},
   "source": [
    "#### ¿Cuál es el resultado? \n",
    "Si, como ves, el asterisco es el símbolo que se utiliza en Python para multiplicar. Probemos ahora:"
   ]
  },
  {
   "cell_type": "code",
   "execution_count": 4,
   "metadata": {},
   "outputs": [
    {
     "data": {
      "text/plain": [
       "2.0"
      ]
     },
     "execution_count": 4,
     "metadata": {},
     "output_type": "execute_result"
    }
   ],
   "source": [
    "8/4"
   ]
  },
  {
   "cell_type": "markdown",
   "metadata": {},
   "source": [
    "#### ¿Qué resultado nos da? ¿Para qué se usa la barra hacia adelante?\n",
    "<p>En Python se puede usar los siguientes sı́mbolos básicos de matemáticas, que en programación se llaman operadores:</p>\n",
    "\n",
    "Operador | Descripción\n",
    "------------ | -------------\n",
    "+ | Suma\n",
    "- | Resta\n",
    "* | Multiplicación\n",
    "/ | División"
   ]
  },
  {
   "cell_type": "markdown",
   "metadata": {},
   "source": [
    "Si por ejemplo tomamos la siguiente operación:"
   ]
  },
  {
   "cell_type": "code",
   "execution_count": 5,
   "metadata": {},
   "outputs": [
    {
     "data": {
      "text/plain": [
       "605"
      ]
     },
     "execution_count": 5,
     "metadata": {},
     "output_type": "execute_result"
    }
   ],
   "source": [
    "5+30*20"
   ]
  },
  {
   "cell_type": "markdown",
   "metadata": {},
   "source": [
    "¿Qué da? ¿Por qué? Y si ahora hacemos:"
   ]
  },
  {
   "cell_type": "code",
   "execution_count": 6,
   "metadata": {},
   "outputs": [
    {
     "data": {
      "text/plain": [
       "700"
      ]
     },
     "execution_count": 6,
     "metadata": {},
     "output_type": "execute_result"
    }
   ],
   "source": [
    "(5+30)*20"
   ]
  },
  {
   "cell_type": "markdown",
   "metadata": {},
   "source": [
    "#### ¿Nos da el mismo resultado? ¿Por qué pensás que ocurre eso?"
   ]
  },
  {
   "cell_type": "markdown",
   "metadata": {},
   "source": [
    "De las dos operaciones anteriores podemos concluir dos cosas importantes: en este lenguaje, al igual que en la matemática, los operadores no tienen la misma prioridad de lectura o ejecución. La multiplicación y la división tienen mayor orden de prioridad que la suma y la resta. Esto significa que en el ejemplo 5+30*20, Python primero realiza la operación 30*20 y luego le suma 5 al resultado de la multiplicación. Los paréntesis nos sirven para reordenar las prioridades: al hacer (5+30) obligamos la ejecución de esta operación antes que la multiplicación"
   ]
  },
  {
   "cell_type": "markdown",
   "metadata": {},
   "source": [
    "#### ¿Qué tal si probamos algo más complejo? Escribamos lo siguiente:"
   ]
  },
  {
   "cell_type": "code",
   "execution_count": 8,
   "metadata": {},
   "outputs": [
    {
     "data": {
      "text/plain": [
       "3.6"
      ]
     },
     "execution_count": 8,
     "metadata": {},
     "output_type": "execute_result"
    }
   ],
   "source": [
    "((4+5)*2)/5"
   ]
  }
 ],
 "metadata": {
  "kernelspec": {
   "display_name": "Python 3",
   "language": "python",
   "name": "python3"
  },
  "language_info": {
   "codemirror_mode": {
    "name": "ipython",
    "version": 3
   },
   "file_extension": ".py",
   "mimetype": "text/x-python",
   "name": "python",
   "nbconvert_exporter": "python",
   "pygments_lexer": "ipython3",
   "version": "3.7.1"
  }
 },
 "nbformat": 4,
 "nbformat_minor": 2
}
